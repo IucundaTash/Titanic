{
 "cells": [
  {
   "cell_type": "markdown",
   "id": "0f5d658d",
   "metadata": {},
   "source": [
    "Exploratory Data Analysis, known as EDA, is the process of analysing and investigating data in order to test hypothesis and check assumptions, to discover patterns and spot any exceptions. This is achieved by using data visualisations methods and summary statistics.\n",
    "\n",
    "The Titanic is a well known disaster, a luxury ship that sank after coming into contact with an iceberg in 1912. The story has inspired multiple books and the famously known movie starring Leonardo DiCaprio and Kate Winslet. In this notebook I will begin an exploratory data analysis on the Titanic dataset.\n",
    "\n",
    "I want to determine the following from my analysis:\n",
    "\n",
    "The ratio of men and women that did not survive the titanic and those that did, together with thier socio-economic standing and ages.\n"
   ]
  },
  {
   "cell_type": "markdown",
   "id": "56f17bea",
   "metadata": {},
   "source": [
    "Import all useful packages. "
   ]
  },
  {
   "cell_type": "code",
   "execution_count": 1,
   "id": "c4d5c90c",
   "metadata": {
    "scrolled": true
   },
   "outputs": [
    {
     "data": {
      "text/html": [
       "<div>\n",
       "<style scoped>\n",
       "    .dataframe tbody tr th:only-of-type {\n",
       "        vertical-align: middle;\n",
       "    }\n",
       "\n",
       "    .dataframe tbody tr th {\n",
       "        vertical-align: top;\n",
       "    }\n",
       "\n",
       "    .dataframe thead th {\n",
       "        text-align: right;\n",
       "    }\n",
       "</style>\n",
       "<table border=\"1\" class=\"dataframe\">\n",
       "  <thead>\n",
       "    <tr style=\"text-align: right;\">\n",
       "      <th></th>\n",
       "      <th>PassengerId</th>\n",
       "      <th>Survived</th>\n",
       "      <th>Pclass</th>\n",
       "      <th>Name</th>\n",
       "      <th>Sex</th>\n",
       "      <th>Age</th>\n",
       "      <th>SibSp</th>\n",
       "      <th>Parch</th>\n",
       "      <th>Ticket</th>\n",
       "      <th>Fare</th>\n",
       "      <th>Cabin</th>\n",
       "      <th>Embarked</th>\n",
       "    </tr>\n",
       "  </thead>\n",
       "  <tbody>\n",
       "    <tr>\n",
       "      <th>0</th>\n",
       "      <td>1</td>\n",
       "      <td>0</td>\n",
       "      <td>3</td>\n",
       "      <td>Braund, Mr. Owen Harris</td>\n",
       "      <td>male</td>\n",
       "      <td>22.0</td>\n",
       "      <td>1</td>\n",
       "      <td>0</td>\n",
       "      <td>A/5 21171</td>\n",
       "      <td>7.2500</td>\n",
       "      <td>NaN</td>\n",
       "      <td>S</td>\n",
       "    </tr>\n",
       "    <tr>\n",
       "      <th>1</th>\n",
       "      <td>2</td>\n",
       "      <td>1</td>\n",
       "      <td>1</td>\n",
       "      <td>Cumings, Mrs. John Bradley (Florence Briggs Th...</td>\n",
       "      <td>female</td>\n",
       "      <td>38.0</td>\n",
       "      <td>1</td>\n",
       "      <td>0</td>\n",
       "      <td>PC 17599</td>\n",
       "      <td>71.2833</td>\n",
       "      <td>C85</td>\n",
       "      <td>C</td>\n",
       "    </tr>\n",
       "    <tr>\n",
       "      <th>2</th>\n",
       "      <td>3</td>\n",
       "      <td>1</td>\n",
       "      <td>3</td>\n",
       "      <td>Heikkinen, Miss. Laina</td>\n",
       "      <td>female</td>\n",
       "      <td>26.0</td>\n",
       "      <td>0</td>\n",
       "      <td>0</td>\n",
       "      <td>STON/O2. 3101282</td>\n",
       "      <td>7.9250</td>\n",
       "      <td>NaN</td>\n",
       "      <td>S</td>\n",
       "    </tr>\n",
       "    <tr>\n",
       "      <th>3</th>\n",
       "      <td>4</td>\n",
       "      <td>1</td>\n",
       "      <td>1</td>\n",
       "      <td>Futrelle, Mrs. Jacques Heath (Lily May Peel)</td>\n",
       "      <td>female</td>\n",
       "      <td>35.0</td>\n",
       "      <td>1</td>\n",
       "      <td>0</td>\n",
       "      <td>113803</td>\n",
       "      <td>53.1000</td>\n",
       "      <td>C123</td>\n",
       "      <td>S</td>\n",
       "    </tr>\n",
       "    <tr>\n",
       "      <th>4</th>\n",
       "      <td>5</td>\n",
       "      <td>0</td>\n",
       "      <td>3</td>\n",
       "      <td>Allen, Mr. William Henry</td>\n",
       "      <td>male</td>\n",
       "      <td>35.0</td>\n",
       "      <td>0</td>\n",
       "      <td>0</td>\n",
       "      <td>373450</td>\n",
       "      <td>8.0500</td>\n",
       "      <td>NaN</td>\n",
       "      <td>S</td>\n",
       "    </tr>\n",
       "    <tr>\n",
       "      <th>...</th>\n",
       "      <td>...</td>\n",
       "      <td>...</td>\n",
       "      <td>...</td>\n",
       "      <td>...</td>\n",
       "      <td>...</td>\n",
       "      <td>...</td>\n",
       "      <td>...</td>\n",
       "      <td>...</td>\n",
       "      <td>...</td>\n",
       "      <td>...</td>\n",
       "      <td>...</td>\n",
       "      <td>...</td>\n",
       "    </tr>\n",
       "    <tr>\n",
       "      <th>886</th>\n",
       "      <td>887</td>\n",
       "      <td>0</td>\n",
       "      <td>2</td>\n",
       "      <td>Montvila, Rev. Juozas</td>\n",
       "      <td>male</td>\n",
       "      <td>27.0</td>\n",
       "      <td>0</td>\n",
       "      <td>0</td>\n",
       "      <td>211536</td>\n",
       "      <td>13.0000</td>\n",
       "      <td>NaN</td>\n",
       "      <td>S</td>\n",
       "    </tr>\n",
       "    <tr>\n",
       "      <th>887</th>\n",
       "      <td>888</td>\n",
       "      <td>1</td>\n",
       "      <td>1</td>\n",
       "      <td>Graham, Miss. Margaret Edith</td>\n",
       "      <td>female</td>\n",
       "      <td>19.0</td>\n",
       "      <td>0</td>\n",
       "      <td>0</td>\n",
       "      <td>112053</td>\n",
       "      <td>30.0000</td>\n",
       "      <td>B42</td>\n",
       "      <td>S</td>\n",
       "    </tr>\n",
       "    <tr>\n",
       "      <th>888</th>\n",
       "      <td>889</td>\n",
       "      <td>0</td>\n",
       "      <td>3</td>\n",
       "      <td>Johnston, Miss. Catherine Helen \"Carrie\"</td>\n",
       "      <td>female</td>\n",
       "      <td>NaN</td>\n",
       "      <td>1</td>\n",
       "      <td>2</td>\n",
       "      <td>W./C. 6607</td>\n",
       "      <td>23.4500</td>\n",
       "      <td>NaN</td>\n",
       "      <td>S</td>\n",
       "    </tr>\n",
       "    <tr>\n",
       "      <th>889</th>\n",
       "      <td>890</td>\n",
       "      <td>1</td>\n",
       "      <td>1</td>\n",
       "      <td>Behr, Mr. Karl Howell</td>\n",
       "      <td>male</td>\n",
       "      <td>26.0</td>\n",
       "      <td>0</td>\n",
       "      <td>0</td>\n",
       "      <td>111369</td>\n",
       "      <td>30.0000</td>\n",
       "      <td>C148</td>\n",
       "      <td>C</td>\n",
       "    </tr>\n",
       "    <tr>\n",
       "      <th>890</th>\n",
       "      <td>891</td>\n",
       "      <td>0</td>\n",
       "      <td>3</td>\n",
       "      <td>Dooley, Mr. Patrick</td>\n",
       "      <td>male</td>\n",
       "      <td>32.0</td>\n",
       "      <td>0</td>\n",
       "      <td>0</td>\n",
       "      <td>370376</td>\n",
       "      <td>7.7500</td>\n",
       "      <td>NaN</td>\n",
       "      <td>Q</td>\n",
       "    </tr>\n",
       "  </tbody>\n",
       "</table>\n",
       "<p>891 rows × 12 columns</p>\n",
       "</div>"
      ],
      "text/plain": [
       "     PassengerId  Survived  Pclass  \\\n",
       "0              1         0       3   \n",
       "1              2         1       1   \n",
       "2              3         1       3   \n",
       "3              4         1       1   \n",
       "4              5         0       3   \n",
       "..           ...       ...     ...   \n",
       "886          887         0       2   \n",
       "887          888         1       1   \n",
       "888          889         0       3   \n",
       "889          890         1       1   \n",
       "890          891         0       3   \n",
       "\n",
       "                                                  Name     Sex   Age  SibSp  \\\n",
       "0                              Braund, Mr. Owen Harris    male  22.0      1   \n",
       "1    Cumings, Mrs. John Bradley (Florence Briggs Th...  female  38.0      1   \n",
       "2                               Heikkinen, Miss. Laina  female  26.0      0   \n",
       "3         Futrelle, Mrs. Jacques Heath (Lily May Peel)  female  35.0      1   \n",
       "4                             Allen, Mr. William Henry    male  35.0      0   \n",
       "..                                                 ...     ...   ...    ...   \n",
       "886                              Montvila, Rev. Juozas    male  27.0      0   \n",
       "887                       Graham, Miss. Margaret Edith  female  19.0      0   \n",
       "888           Johnston, Miss. Catherine Helen \"Carrie\"  female   NaN      1   \n",
       "889                              Behr, Mr. Karl Howell    male  26.0      0   \n",
       "890                                Dooley, Mr. Patrick    male  32.0      0   \n",
       "\n",
       "     Parch            Ticket     Fare Cabin Embarked  \n",
       "0        0         A/5 21171   7.2500   NaN        S  \n",
       "1        0          PC 17599  71.2833   C85        C  \n",
       "2        0  STON/O2. 3101282   7.9250   NaN        S  \n",
       "3        0            113803  53.1000  C123        S  \n",
       "4        0            373450   8.0500   NaN        S  \n",
       "..     ...               ...      ...   ...      ...  \n",
       "886      0            211536  13.0000   NaN        S  \n",
       "887      0            112053  30.0000   B42        S  \n",
       "888      2        W./C. 6607  23.4500   NaN        S  \n",
       "889      0            111369  30.0000  C148        C  \n",
       "890      0            370376   7.7500   NaN        Q  \n",
       "\n",
       "[891 rows x 12 columns]"
      ]
     },
     "execution_count": 1,
     "metadata": {},
     "output_type": "execute_result"
    }
   ],
   "source": [
    "import pandas as pd\n",
    "\n",
    "# From the scipy python library import the statistical functions.\n",
    "from scipy import stats\n",
    "\n",
    "# This library enables matplolib statistical graphics look more pleasing\n",
    "import seaborn as sns\n",
    "\n",
    "# python library provides the ability to understand the distribution of miissing\n",
    "# values\n",
    "import missingno as msno\n",
    "\n",
    "# The matplotlib library enables us to visualise data through plots.\n",
    "import matplotlib.pyplot as plt\n",
    "\n",
    "# Read the countries.csv file into a pandas DataFrame.\n",
    "# view the head() and tail() of the DataFrame.\n",
    "titanic_df = pd.read_csv('Titanic.csv')\n",
    "titanic_df"
   ]
  },
  {
   "cell_type": "markdown",
   "id": "39c7243e",
   "metadata": {},
   "source": [
    "The titanic dataset consists of 12 columns and 891 rows of different types of data. \n",
    "\n",
    "There are 5 object features: Name, Sex, Ticket, Cabin and Embarked.\n",
    "•\tTwo of them: Cabin and Ticket are mixed type (numbers+ string)\n",
    "•\tSex is binary categorical - an individual is recorded as male or female\n",
    "•\tEmbarked is categorical: S - Southampton, C = Cherbourg , Q= Queenstown\n",
    "•\tName is text\n",
    "\n",
    "There are 6 numeric features: Pclass, Age, PassengerID, SibSp, Parch, Fare.\n",
    "•\tAge and Fare are continuous\n",
    "•\tPclass is ordinal category - where 1 = Upper class, 2 = Middle class and 3 = Lower class\n",
    "•\tSibSp and Parch are discrete ordinal\n",
    "•\tSibSp - the number of siblings or spouse in relation to the passenger aboard the Titanic.\n",
    "•\tParch -  the number of parents or children in relation to the individual aboard the ship.\n",
    "•\tTarget: Survived is binary categorical - where 1 = Survived and 0 = did not Survive"
   ]
  },
  {
   "cell_type": "code",
   "execution_count": 2,
   "id": "6fedf7a0",
   "metadata": {},
   "outputs": [
    {
     "name": "stdout",
     "output_type": "stream",
     "text": [
      "<class 'pandas.core.frame.DataFrame'>\n",
      "RangeIndex: 891 entries, 0 to 890\n",
      "Data columns (total 12 columns):\n",
      " #   Column       Non-Null Count  Dtype  \n",
      "---  ------       --------------  -----  \n",
      " 0   PassengerId  891 non-null    int64  \n",
      " 1   Survived     891 non-null    int64  \n",
      " 2   Pclass       891 non-null    int64  \n",
      " 3   Name         891 non-null    object \n",
      " 4   Sex          891 non-null    object \n",
      " 5   Age          714 non-null    float64\n",
      " 6   SibSp        891 non-null    int64  \n",
      " 7   Parch        891 non-null    int64  \n",
      " 8   Ticket       891 non-null    object \n",
      " 9   Fare         891 non-null    float64\n",
      " 10  Cabin        204 non-null    object \n",
      " 11  Embarked     889 non-null    object \n",
      "dtypes: float64(2), int64(5), object(5)\n",
      "memory usage: 83.7+ KB\n"
     ]
    }
   ],
   "source": [
    "# find information regarding the data within the titanic DataFrame.\n",
    "titanic_df.info()"
   ]
  },
  {
   "cell_type": "markdown",
   "id": "43027444",
   "metadata": {},
   "source": [
    "Find the number of missing values in each column of titanic_df."
   ]
  },
  {
   "cell_type": "code",
   "execution_count": 3,
   "id": "94efdd09",
   "metadata": {},
   "outputs": [
    {
     "data": {
      "text/plain": [
       "PassengerId      0\n",
       "Survived         0\n",
       "Pclass           0\n",
       "Name             0\n",
       "Sex              0\n",
       "Age            177\n",
       "SibSp            0\n",
       "Parch            0\n",
       "Ticket           0\n",
       "Fare             0\n",
       "Cabin          687\n",
       "Embarked         2\n",
       "dtype: int64"
      ]
     },
     "execution_count": 3,
     "metadata": {},
     "output_type": "execute_result"
    },
    {
     "data": {
      "image/png": "[encoded data removed]",
      "text/plain": [
       "<Figure size 1440x720 with 2 Axes>"
      ]
     },
     "metadata": {
      "needs_background": "light"
     },
     "output_type": "display_data"
    }
   ],
   "source": [
    "# Visualise the distribution of missing numbers in titanic_df\n",
    "msno.matrix(titanic_df, figsize = (20,10))\n",
    "\n",
    "missing_values = titanic_df.isna().sum()\n",
    "missing_values"
   ]
  },
  {
   "cell_type": "markdown",
   "id": "bfbe2cc9",
   "metadata": {},
   "source": [
    "The 'Age' , 'Cabin' and 'Embarked' columns contain missing data, with 'Cabin' containing the most missing data, 687 data values are missing. Encylopedia Titanica states that \"the only authoritative source of cabin data is the incomplete first class passenger list recovered with the body of steward Herbert Cave\". There is no way of knowing what the cabin allocations are and with such few data values it is unlikely to infer any relation between surving the titanic and cabin allocation. I will drop the 'Cabin' column."
   ]
  },
  {
   "cell_type": "code",
   "execution_count": 4,
   "id": "15d05405",
   "metadata": {},
   "outputs": [
    {
     "name": "stdout",
     "output_type": "stream",
     "text": [
      "No. of unique tickets:  681\n",
      "No. of unique names:  891\n"
     ]
    }
   ],
   "source": [
    "# Display the number of unique values in Ticket and Name column\n",
    "unique_ticket = len(pd.unique(titanic_df['Ticket']))\n",
    "unique_name = len(pd.unique(titanic_df['Name']))\n",
    "\n",
    "print('No. of unique tickets: ', unique_ticket)\n",
    "print('No. of unique names: ', unique_name)"
   ]
  },
  {
   "cell_type": "code",
   "execution_count": 5,
   "id": "15096189",
   "metadata": {},
   "outputs": [
    {
     "data": {
      "text/plain": [
       "[Text(0.5, 1.0, 'Correlation matrix of PassengerId and Survived\\n')]"
      ]
     },
     "execution_count": 5,
     "metadata": {},
     "output_type": "execute_result"
    },
    {
     "data": {
      "image/png": "[encoded data removed]",
      "text/plain": [
       "<Figure size 432x288 with 2 Axes>"
      ]
     },
     "metadata": {
      "needs_background": "light"
     },
     "output_type": "display_data"
    }
   ],
   "source": [
    "# Display the correlation between PassengerId and Survived by \n",
    "# plotting a correlation heatmap.\n",
    "\n",
    "variables_corr = pd.DataFrame({'PassengerId':titanic_df['PassengerId'], \n",
    "                               'Survived':titanic_df['Survived'],\n",
    "                              })\n",
    "\n",
    "# plot the correlation heatmap\n",
    "heatmap = sns.heatmap(variables_corr.corr(), annot=True)\n",
    "\n",
    "# Add a title\n",
    "heatmap.set(title = 'Correlation matrix of PassengerId and Survived\\n')"
   ]
  },
  {
   "cell_type": "markdown",
   "id": "79151170",
   "metadata": {},
   "source": [
    "I will drop the 'Ticket' column becuase the ticket number is not related to any other column within the dataset. It is just a number generated at the time of purchase. The number of unique values is high, hence I will not use the 'Ticket' column in my analysis.\n",
    "\n",
    "The 'Name' column will be dropped because it does not affect the survival of the individual aboard the Titanic. The number of unique values is also high. More imputations will have to be conducted in order to infer any relation between Name and Survived.\n",
    "\n",
    "There is no correlation between 'PassengerId' and 'Survived', as can be seen in the heatmap above. PassengerId and Survived have a correlation of 0, which means no distinguishing relationship between the two variables. I will drop the 'PassengerId' for the purpose of this analysis."
   ]
  },
  {
   "cell_type": "code",
   "execution_count": 6,
   "id": "0f70bf66",
   "metadata": {},
   "outputs": [
    {
     "data": {
      "text/html": [
       "<div>\n",
       "<style scoped>\n",
       "    .dataframe tbody tr th:only-of-type {\n",
       "        vertical-align: middle;\n",
       "    }\n",
       "\n",
       "    .dataframe tbody tr th {\n",
       "        vertical-align: top;\n",
       "    }\n",
       "\n",
       "    .dataframe thead th {\n",
       "        text-align: right;\n",
       "    }\n",
       "</style>\n",
       "<table border=\"1\" class=\"dataframe\">\n",
       "  <thead>\n",
       "    <tr style=\"text-align: right;\">\n",
       "      <th></th>\n",
       "      <th>Survived</th>\n",
       "      <th>Pclass</th>\n",
       "      <th>Sex</th>\n",
       "      <th>Age</th>\n",
       "      <th>SibSp</th>\n",
       "      <th>Parch</th>\n",
       "      <th>Fare</th>\n",
       "      <th>Embarked</th>\n",
       "    </tr>\n",
       "  </thead>\n",
       "  <tbody>\n",
       "    <tr>\n",
       "      <th>0</th>\n",
       "      <td>0</td>\n",
       "      <td>3</td>\n",
       "      <td>male</td>\n",
       "      <td>22.0</td>\n",
       "      <td>1</td>\n",
       "      <td>0</td>\n",
       "      <td>7.2500</td>\n",
       "      <td>S</td>\n",
       "    </tr>\n",
       "    <tr>\n",
       "      <th>1</th>\n",
       "      <td>1</td>\n",
       "      <td>1</td>\n",
       "      <td>female</td>\n",
       "      <td>38.0</td>\n",
       "      <td>1</td>\n",
       "      <td>0</td>\n",
       "      <td>71.2833</td>\n",
       "      <td>C</td>\n",
       "    </tr>\n",
       "    <tr>\n",
       "      <th>2</th>\n",
       "      <td>1</td>\n",
       "      <td>3</td>\n",
       "      <td>female</td>\n",
       "      <td>26.0</td>\n",
       "      <td>0</td>\n",
       "      <td>0</td>\n",
       "      <td>7.9250</td>\n",
       "      <td>S</td>\n",
       "    </tr>\n",
       "    <tr>\n",
       "      <th>3</th>\n",
       "      <td>1</td>\n",
       "      <td>1</td>\n",
       "      <td>female</td>\n",
       "      <td>35.0</td>\n",
       "      <td>1</td>\n",
       "      <td>0</td>\n",
       "      <td>53.1000</td>\n",
       "      <td>S</td>\n",
       "    </tr>\n",
       "    <tr>\n",
       "      <th>4</th>\n",
       "      <td>0</td>\n",
       "      <td>3</td>\n",
       "      <td>male</td>\n",
       "      <td>35.0</td>\n",
       "      <td>0</td>\n",
       "      <td>0</td>\n",
       "      <td>8.0500</td>\n",
       "      <td>S</td>\n",
       "    </tr>\n",
       "    <tr>\n",
       "      <th>...</th>\n",
       "      <td>...</td>\n",
       "      <td>...</td>\n",
       "      <td>...</td>\n",
       "      <td>...</td>\n",
       "      <td>...</td>\n",
       "      <td>...</td>\n",
       "      <td>...</td>\n",
       "      <td>...</td>\n",
       "    </tr>\n",
       "    <tr>\n",
       "      <th>886</th>\n",
       "      <td>0</td>\n",
       "      <td>2</td>\n",
       "      <td>male</td>\n",
       "      <td>27.0</td>\n",
       "      <td>0</td>\n",
       "      <td>0</td>\n",
       "      <td>13.0000</td>\n",
       "      <td>S</td>\n",
       "    </tr>\n",
       "    <tr>\n",
       "      <th>887</th>\n",
       "      <td>1</td>\n",
       "      <td>1</td>\n",
       "      <td>female</td>\n",
       "      <td>19.0</td>\n",
       "      <td>0</td>\n",
       "      <td>0</td>\n",
       "      <td>30.0000</td>\n",
       "      <td>S</td>\n",
       "    </tr>\n",
       "    <tr>\n",
       "      <th>888</th>\n",
       "      <td>0</td>\n",
       "      <td>3</td>\n",
       "      <td>female</td>\n",
       "      <td>NaN</td>\n",
       "      <td>1</td>\n",
       "      <td>2</td>\n",
       "      <td>23.4500</td>\n",
       "      <td>S</td>\n",
       "    </tr>\n",
       "    <tr>\n",
       "      <th>889</th>\n",
       "      <td>1</td>\n",
       "      <td>1</td>\n",
       "      <td>male</td>\n",
       "      <td>26.0</td>\n",
       "      <td>0</td>\n",
       "      <td>0</td>\n",
       "      <td>30.0000</td>\n",
       "      <td>C</td>\n",
       "    </tr>\n",
       "    <tr>\n",
       "      <th>890</th>\n",
       "      <td>0</td>\n",
       "      <td>3</td>\n",
       "      <td>male</td>\n",
       "      <td>32.0</td>\n",
       "      <td>0</td>\n",
       "      <td>0</td>\n",
       "      <td>7.7500</td>\n",
       "      <td>Q</td>\n",
       "    </tr>\n",
       "  </tbody>\n",
       "</table>\n",
       "<p>891 rows × 8 columns</p>\n",
       "</div>"
      ],
      "text/plain": [
       "     Survived  Pclass     Sex   Age  SibSp  Parch     Fare Embarked\n",
       "0           0       3    male  22.0      1      0   7.2500        S\n",
       "1           1       1  female  38.0      1      0  71.2833        C\n",
       "2           1       3  female  26.0      0      0   7.9250        S\n",
       "3           1       1  female  35.0      1      0  53.1000        S\n",
       "4           0       3    male  35.0      0      0   8.0500        S\n",
       "..        ...     ...     ...   ...    ...    ...      ...      ...\n",
       "886         0       2    male  27.0      0      0  13.0000        S\n",
       "887         1       1  female  19.0      0      0  30.0000        S\n",
       "888         0       3  female   NaN      1      2  23.4500        S\n",
       "889         1       1    male  26.0      0      0  30.0000        C\n",
       "890         0       3    male  32.0      0      0   7.7500        Q\n",
       "\n",
       "[891 rows x 8 columns]"
      ]
     },
     "execution_count": 6,
     "metadata": {},
     "output_type": "execute_result"
    }
   ],
   "source": [
    "# drop columns\n",
    "new_titanic_df=titanic_df.drop(['PassengerId', 'Name', 'Ticket', 'Cabin'], axis=1)\n",
    "new_titanic_df"
   ]
  },
  {
   "cell_type": "code",
   "execution_count": 7,
   "id": "d2080e98",
   "metadata": {},
   "outputs": [
    {
     "name": "stdout",
     "output_type": "stream",
     "text": [
      "male      577\n",
      "female    314\n",
      "Name: Sex, dtype: int64\n"
     ]
    },
    {
     "data": {
      "image/png": "[encoded data removed]",
      "text/plain": [
       "<Figure size 432x288 with 1 Axes>"
      ]
     },
     "metadata": {
      "needs_background": "light"
     },
     "output_type": "display_data"
    }
   ],
   "source": [
    "# Visualise the number of males and females aboard\n",
    "sns.countplot(y='Sex', data=new_titanic_df);\n",
    "print(new_titanic_df.Sex.value_counts())"
   ]
  },
  {
   "cell_type": "markdown",
   "id": "6c11b86a",
   "metadata": {},
   "source": [
    "There were more males than females aboard the Titanic."
   ]
  },
  {
   "cell_type": "code",
   "execution_count": 8,
   "id": "57549c8a",
   "metadata": {},
   "outputs": [],
   "source": [
    "# Replace the 'Survived' values from [0,1] to ['No', 'Yes'] for readibility\n",
    "new_titanic_df['Survived'].replace({0:'No', 1:'Yes'}, inplace=True)"
   ]
  },
  {
   "cell_type": "code",
   "execution_count": 9,
   "id": "849b8689",
   "metadata": {},
   "outputs": [
    {
     "data": {
      "text/plain": [
       "No     549\n",
       "Yes    342\n",
       "Name: Survived, dtype: int64"
      ]
     },
     "execution_count": 9,
     "metadata": {},
     "output_type": "execute_result"
    }
   ],
   "source": [
    "# count the number of passengers that survided and those that did not\n",
    "new_titanic_df[\"Survived\"].value_counts()"
   ]
  },
  {
   "cell_type": "markdown",
   "id": "8cb773a6",
   "metadata": {},
   "source": [
    "The Titanic disaster has been extensively documented and we know that alot of people did not survive the crash. As we can see from the dataset 549 people did not survive and only 342 survived.\n",
    "\n",
    "Let us look at the proportion of males and females that survived and did not survive the shipwreck."
   ]
  },
  {
   "cell_type": "code",
   "execution_count": 10,
   "id": "2a4dbd6c",
   "metadata": {},
   "outputs": [
    {
     "data": {
      "text/plain": [
       "Text(0.5, 1.0, 'Number of Titanic passengers that survived or died based on sex\\n')"
      ]
     },
     "execution_count": 10,
     "metadata": {},
     "output_type": "execute_result"
    },
    {
     "data": {
      "image/png": "[encoded data removed]",
      "text/plain": [
       "<Figure size 412x360 with 1 Axes>"
      ]
     },
     "metadata": {
      "needs_background": "light"
     },
     "output_type": "display_data"
    }
   ],
   "source": [
    "# Plot the number of male and female passengers that did and did not survive.\n",
    "sns.catplot(x =\"Sex\", hue =\"Survived\", kind =\"count\", data = new_titanic_df)\n",
    "plt.title('Number of Titanic passengers that survived or died based on sex\\n')"
   ]
  },
  {
   "cell_type": "markdown",
   "id": "1e1c14d1",
   "metadata": {},
   "source": [
    "As we can see more females than males survived the Titanic. When the Titanic crashed it may have been important to the male passengers to help the females first onto the safe boats before the males. The History.com website stated that \"in compliance with the law of the sea, women and children boarded the boats first; only when there were no women or children nearby were men permitted to board\". "
   ]
  },
  {
   "cell_type": "markdown",
   "id": "a660db7a",
   "metadata": {},
   "source": [
    "Let us look at the number of passengers that survived based on class."
   ]
  },
  {
   "cell_type": "code",
   "execution_count": 11,
   "id": "49c1189b",
   "metadata": {},
   "outputs": [
    {
     "data": {
      "text/plain": [
       "Text(0.5, 1.0, 'Number of Titanic passengers that survived or died based on Pclass')"
      ]
     },
     "execution_count": 11,
     "metadata": {},
     "output_type": "execute_result"
    },
    {
     "data": {
      "image/png": "[encoded data removed]",
      "text/plain": [
       "<Figure size 412x360 with 1 Axes>"
      ]
     },
     "metadata": {
      "needs_background": "light"
     },
     "output_type": "display_data"
    }
   ],
   "source": [
    "# Plot the number of passengers that survived based on Pclass.\n",
    "sns.catplot(x =\"Pclass\", hue =\"Survived\", kind =\"count\", data = new_titanic_df)\n",
    "plt.title('Number of Titanic passengers that survived or died based on Pclass')\n"
   ]
  },
  {
   "cell_type": "markdown",
   "id": "0134510d",
   "metadata": {},
   "source": [
    "The lower class had the most deaths among all three classes. The upper class had a higher number of survivors compared to deaths. There is a close to equal number of pasengers that died and those that survived in the middle class.\n",
    "\n",
    "\n",
    "Let's have a look at the proportion of males and females that survived based on their class."
   ]
  },
  {
   "cell_type": "code",
   "execution_count": 12,
   "id": "1c694c3c",
   "metadata": {},
   "outputs": [
    {
     "data": {
      "text/plain": [
       "Text(0.5, 1.0, 'Number of Passengers that survived based on Sex and Pclass\\n')"
      ]
     },
     "execution_count": 12,
     "metadata": {},
     "output_type": "execute_result"
    },
    {
     "data": {
      "image/png": "[encoded data removed]",
      "text/plain": [
       "<Figure size 576x576 with 2 Axes>"
      ]
     },
     "metadata": {
      "needs_background": "light"
     },
     "output_type": "display_data"
    }
   ],
   "source": [
    "fig, ax = plt.subplots(nrows=1, ncols=1, figsize=(8,8))\n",
    "\n",
    "# Group the dataset by Pclass, Survived and Sex \n",
    "group= new_titanic_df.groupby(['Pclass', 'Survived', 'Sex'])\n",
    "\n",
    "# and then unstack them\n",
    "pclass_survived = group.size().unstack()\n",
    "\n",
    "# Heatmap illustration of the above dataset.\n",
    "ax = sns.heatmap(pclass_survived, annot = True, fmt =\"d\")\n",
    "ax.set_title('Number of Passengers that survived based on Sex and Pclass\\n')\n"
   ]
  },
  {
   "cell_type": "markdown",
   "id": "1ccce9d5",
   "metadata": {},
   "source": [
    "The heatmap illustrates the number of males and females that died and survived the Titanic based on the Pclass.\n",
    "As can be seen 300 male passengers within the lower class did not survive compared to 91 from the middle class and 77 from the upper class. \n",
    "\n",
    "What is interesting to see is the high number of males that died compared to the ones that survived in the lower class. Whereas, for females in the lower class there was an equal amount of deaths and survivors.\n",
    "\n",
    "In all the classes the number of females that survived is again higher than males.\n",
    "Let's look at the number of passengers that survived based on the town they embarked from."
   ]
  },
  {
   "cell_type": "code",
   "execution_count": 13,
   "id": "8e78a949",
   "metadata": {},
   "outputs": [
    {
     "data": {
      "text/plain": [
       "<seaborn.axisgrid.FacetGrid at 0x178e98f5ee0>"
      ]
     },
     "execution_count": 13,
     "metadata": {},
     "output_type": "execute_result"
    },
    {
     "data": {
      "image/png": "[encoded data removed]",
      "text/plain": [
       "<Figure size 412x360 with 1 Axes>"
      ]
     },
     "metadata": {
      "needs_background": "light"
     },
     "output_type": "display_data"
    }
   ],
   "source": [
    "# Plot the survival of passengers based on the town they embarked from.\n",
    "sns.catplot(x =\"Embarked\", hue =\"Survived\", kind =\"count\", data = new_titanic_df)"
   ]
  },
  {
   "cell_type": "markdown",
   "id": "13e8df39",
   "metadata": {},
   "source": [
    "Most passengers embarked from Southamptom compared to Cherbourg and Queenstown. There is a high number of passengers that did not survive from Southampton and Queenstown has the least amount of passengers that survived. Only passengers that embarked from Cherbourg had a greater "
   ]
  },
  {
   "cell_type": "code",
   "execution_count": 14,
   "id": "7f838f6a",
   "metadata": {},
   "outputs": [
    {
     "data": {
      "text/plain": [
       "<AxesSubplot:xlabel='Pclass', ylabel='Embarked-Survived'>"
      ]
     },
     "execution_count": 14,
     "metadata": {},
     "output_type": "execute_result"
    },
    {
     "data": {
      "image/png": "[encoded data removed]",
      "text/plain": [
       "<Figure size 576x576 with 2 Axes>"
      ]
     },
     "metadata": {
      "needs_background": "light"
     },
     "output_type": "display_data"
    }
   ],
   "source": [
    "# group the dataset by Embarked, Survived, Pclass \n",
    "embarked_group = new_titanic_df.groupby(['Embarked', 'Survived', 'Pclass'])\n",
    "\n",
    "# reshape the DataFrame using the unstack() function.\n",
    "embarked_survived = embarked_group.size().unstack()\n",
    "\n",
    "\n",
    "plt.figure(figsize=(8,8))\n",
    "# Heatmap illustration of the above dataset.\n",
    "sns.heatmap(embarked_survived, annot = True, fmt =\"d\")"
   ]
  },
  {
   "cell_type": "markdown",
   "id": "51d4a61a",
   "metadata": {},
   "source": [
    "The heatmap above shows that the most passengers that did not survive are from the lower class and embarked from Southampton. Both the upper and middle classed passengers from Queenstown had equal numbers of deaths and close to equal numbers of survivors. The upper class from Cherbourg and Southampton and the middle class from Southampton had among the highest number of survivors."
   ]
  },
  {
   "cell_type": "code",
   "execution_count": 15,
   "id": "85afafc3",
   "metadata": {},
   "outputs": [
    {
     "data": {
      "text/plain": [
       "<seaborn.axisgrid.FacetGrid at 0x178e9bbed60>"
      ]
     },
     "execution_count": 15,
     "metadata": {},
     "output_type": "execute_result"
    },
    {
     "data": {
      "image/png": "[encoded data removed]",
      "text/plain": [
       "<Figure size 772x360 with 2 Axes>"
      ]
     },
     "metadata": {
      "needs_background": "light"
     },
     "output_type": "display_data"
    }
   ],
   "source": [
    "# Use the code below for age ranges. \n",
    "sns.catplot(x='Embarked', hue='Survived', kind = 'count', col = 'Sex', data=new_titanic_df)"
   ]
  },
  {
   "cell_type": "markdown",
   "id": "bc5fedf3",
   "metadata": {},
   "source": [
    "The overall view of the plot above shows again that the survivors consisted of mostly women. "
   ]
  },
  {
   "cell_type": "markdown",
   "id": "15ab6f98",
   "metadata": {},
   "source": [
    "Let's explore the Fare amount to Survived. "
   ]
  },
  {
   "cell_type": "code",
   "execution_count": 31,
   "id": "6af18a63",
   "metadata": {},
   "outputs": [
    {
     "data": {
      "text/plain": [
       "<Figure size 2160x1440 with 0 Axes>"
      ]
     },
     "execution_count": 31,
     "metadata": {},
     "output_type": "execute_result"
    },
    {
     "data": {
      "image/png": "[encoded data removed]",
      "text/plain": [
       "<Figure size 432x288 with 1 Axes>"
      ]
     },
     "metadata": {
      "needs_background": "light"
     },
     "output_type": "display_data"
    },
    {
     "data": {
      "text/plain": [
       "<Figure size 2160x1440 with 0 Axes>"
      ]
     },
     "metadata": {},
     "output_type": "display_data"
    }
   ],
   "source": [
    "# Plot the survival of passengers based on Fare.\n",
    "sns.violinplot(x ='Sex', y='Fare', hue='Survived', data = new_titanic_df, split=True)\n",
    "plt.figure(figsize=(30,20))"
   ]
  },
  {
   "cell_type": "code",
   "execution_count": 29,
   "id": "2bc1d5be",
   "metadata": {},
   "outputs": [
    {
     "data": {
      "text/plain": [
       "count    891.000000\n",
       "mean      32.204208\n",
       "std       49.693429\n",
       "min        0.000000\n",
       "25%        7.910400\n",
       "50%       14.454200\n",
       "75%       31.000000\n",
       "max      512.329200\n",
       "Name: Fare, dtype: float64"
      ]
     },
     "execution_count": 29,
     "metadata": {},
     "output_type": "execute_result"
    }
   ],
   "source": [
    "new_titanic_df['Fare'].describe()"
   ]
  },
  {
   "cell_type": "markdown",
   "id": "c473dd0b",
   "metadata": {},
   "source": [
    "The mean Fare is 32, with 75% of the passengers paying 31 or below for the Fare. The violin plot indicates a higher probability of not surviving for men and women if the Fare is 31. "
   ]
  },
  {
   "cell_type": "markdown",
   "id": "301124ed",
   "metadata": {},
   "source": [
    "Let's explore the effect of travelling with family had on the survival of an individual.\n",
    "\n",
    "The SibSp and Parch variables separately need further investigation in order to infer any relationship to Survived. However, SibSp and Parch make up close family relations to the individual aboard the Titanic. Hence I will define a new column Family that is obtained from the sum of SibSp and Parch. I will also need a new column Alone for all the passengers that did not travel with SibSp or Parch."
   ]
  },
  {
   "cell_type": "code",
   "execution_count": 17,
   "id": "c767a9bb",
   "metadata": {},
   "outputs": [
    {
     "data": {
      "text/plain": [
       "<seaborn.axisgrid.FacetGrid at 0x178e9ad6970>"
      ]
     },
     "execution_count": 17,
     "metadata": {},
     "output_type": "execute_result"
    },
    {
     "data": {
      "image/png": "[encoded data removed]",
      "text/plain": [
       "<Figure size 432x216 with 2 Axes>"
      ]
     },
     "metadata": {
      "needs_background": "light"
     },
     "output_type": "display_data"
    },
    {
     "data": {
      "image/png": "[encoded data removed]",
      "text/plain": [
       "<Figure size 432x216 with 2 Axes>"
      ]
     },
     "metadata": {
      "needs_background": "light"
     },
     "output_type": "display_data"
    }
   ],
   "source": [
    "# Define the new Family column\n",
    "new_titanic_df['Family'] = 0\n",
    "new_titanic_df['Family'] = new_titanic_df['SibSp']+new_titanic_df['Parch']\n",
    "\n",
    "# Define the Alone column, \n",
    "# if an individual has no Sibling/Parent/Spouse/Child, the data value = 1, else data value = 0\n",
    "new_titanic_df['Alone'] = 0\n",
    "new_titanic_df.loc[new_titanic_df.Family == 0, 'Alone'] = 1\n",
    "\n",
    "\n",
    "# Define 2 factorplots, Family and Alone.\n",
    "#sns.factorplot(x='Survived', y='Family', data=new_titanic_df)\n",
    "sns.catplot(x='Family', col ='Survived', data=new_titanic_df, kind='count', height=3)\n",
    "\n",
    "sns.catplot(x='Survived', col='Alone', data=new_titanic_df, kind='count', height=3)\n",
    "#sns.factorplot(x='Alone', y='Survived', data= new_titanic_df)\n"
   ]
  },
  {
   "cell_type": "markdown",
   "id": "59edfe02",
   "metadata": {},
   "source": [
    "The plots above indicated a high number of passengers that were alone, had no sibling/parent/child/spouse aboard Titanic, died. \n",
    "Passenger that did travel with family had an equal chance of surviving or dying. The plots also indicate that the number of survivors is high when a passenger has one family member. This number of survivors gradually decreases if a passenger has more than 1 family member."
   ]
  },
  {
   "cell_type": "markdown",
   "id": "92b763fe",
   "metadata": {},
   "source": [
    "The 'Age' column contains 177 missing values, missing at random data. It is difficult to analyse the dataset and develop insights with such a big amount of data missing. This column is important for our analysis. I will "
   ]
  },
  {
   "cell_type": "code",
   "execution_count": 18,
   "id": "281866ac",
   "metadata": {},
   "outputs": [
    {
     "data": {
      "text/plain": [
       "0"
      ]
     },
     "execution_count": 18,
     "metadata": {},
     "output_type": "execute_result"
    }
   ],
   "source": [
    "# Fill in the missing values with the median of the group with the same characteristics\n",
    "new_titanic_df['Age'] = new_titanic_df['Age'].fillna((new_titanic_df['Age'].median()))\n",
    "\n",
    "# change the dtype of Age to an integer.\n",
    "new_titanic_df['Age']= new_titanic_df['Age'].astype(int)\n",
    "\n",
    "# Find the number of missing values in the transformed Age column.\n",
    "missing_values = new_titanic_df.Age.isna().sum()\n",
    "missing_values"
   ]
  },
  {
   "cell_type": "code",
   "execution_count": 23,
   "id": "2865cc82",
   "metadata": {},
   "outputs": [
    {
     "data": {
      "text/plain": [
       "<Figure size 1440x1440 with 0 Axes>"
      ]
     },
     "execution_count": 23,
     "metadata": {},
     "output_type": "execute_result"
    },
    {
     "data": {
      "image/png": "[encoded data removed]",
      "text/plain": [
       "<Figure size 432x288 with 1 Axes>"
      ]
     },
     "metadata": {
      "needs_background": "light"
     },
     "output_type": "display_data"
    },
    {
     "data": {
      "text/plain": [
       "<Figure size 1440x1440 with 0 Axes>"
      ]
     },
     "metadata": {},
     "output_type": "display_data"
    }
   ],
   "source": [
    "# Violin plot display the\n",
    "sns.violinplot(x='Sex', y='Age', hue='Survived', data=new_titanic_df, split=True)\n",
    "plt.figure(figsize=(20,20))"
   ]
  },
  {
   "cell_type": "markdown",
   "id": "5fb21a25",
   "metadata": {},
   "source": [
    "Violin plots depict summary statistics and the density of each variable. There is a high probablity that women and men between the ages of 20 and 40 did not survive. The probability of surviving for women between the ages of 18 to 10 is much higher than for men in the same age group."
   ]
  },
  {
   "cell_type": "markdown",
   "id": "7d70c1e7",
   "metadata": {},
   "source": [
    "In conclusion, there were more female survivors than male overall. Most passengers that did not survive are from the lower class and embarked from Southampton. Most passengers paid a fare of 31 or lower, both male and female passengers had a high probability of not surviving if they paid a low fare. The number of survivors is high when a passenger has one family member but this number gradually decreases if a passenger has more than 1 family member."
   ]
  },
  {
   "cell_type": "markdown",
   "id": "a06c7eea",
   "metadata": {},
   "source": [
    "Bibliography\n",
    "\n",
    "HISTORY. 2021. Titanic. [online] Available at: <https://www.history.com/topics/early-20th-century-us/titanic> [Accessed 3 February 2022].\n",
    "\n",
    "Encyclopedia-titanica.org. 2004. Cabin Allocations. [online] Available at: <https://www.encyclopedia-titanica.org/cabins.html> [Accessed 3 February 2022].\n",
    "\n",
    "Campus.lakeforest.edu. n.d. [online] Available at: <http://campus.lakeforest.edu/frank/FILES/MLFfiles/Bio150/Titanic/TitanicMETA.pdf> [Accessed 3 February 2022].\n",
    "\n",
    "GeeksforGeeks. n.d. Python | Titanic Data EDA using Seaborn - GeeksforGeeks. [online] Available at: <https://www.geeksforgeeks.org/python-titanic-data-eda-using-seaborn/> [Accessed 3 February 2022]."
   ]
  }
 ],
 "metadata": {
  "kernelspec": {
   "display_name": "Python 3",
   "language": "python",
   "name": "python3"
  },
  "language_info": {
   "codemirror_mode": {
    "name": "ipython",
    "version": 3
   },
   "file_extension": ".py",
   "mimetype": "text/x-python",
   "name": "python",
   "nbconvert_exporter": "python",
   "pygments_lexer": "ipython3",
   "version": "3.8.8"
  }
 },
 "nbformat": 4,
 "nbformat_minor": 5
}
